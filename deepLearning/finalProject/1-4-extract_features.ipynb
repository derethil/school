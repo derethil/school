{
 "cells": [
  {
   "cell_type": "code",
   "execution_count": 7,
   "metadata": {},
   "outputs": [],
   "source": [
    "import csv\n",
    "import os\n",
    "from pathlib import Path\n",
    "import librosa\n",
    "import matplotlib.pyplot as plt\n",
    "import numpy as np\n",
    "import json\n",
    "import torch\n",
    "from sklearn.model_selection import train_test_split\n",
    "import math"
   ]
  },
  {
   "cell_type": "code",
   "execution_count": null,
   "metadata": {},
   "outputs": [],
   "source": [
    "path = \"Data/genres_original/blues/blues.00000.wav\"\n",
    "\n",
    "\n",
    "class FreatureExtractor:\n",
    "    COLUMNS = [\n",
    "        \"zero_crossings\", \"spectral_centeroid_mean\", \"spectral_centroid_var\"\n",
    "    ]\n",
    "\n",
    "    def __init__(self, path: os.PathLike):\n",
    "\n",
    "        self.y, self.sr = librosa.load(path)\n",
    "\n",
    "    def to_row(self):\n",
    "        spectral_centroid = self.spectral_centroid()\n",
    "        \n",
    "        return [\n",
    "            sum(self.zero_crossings()),\n",
    "            np.average(spectral_centroid),\n",
    "            np.var(spectral_centroid),\n",
    "        ]\n",
    "    \n",
    "    def zero_crossings(self):\n",
    "        return librosa.zero_crossings(self.y, pad=False)\n",
    "\n",
    "    def spectral_centroid(self):\n",
    "        return librosa.feature.spectral_centroid(y=self.y, sr=self.sr)[0]\n",
    "    \n",
    "\n",
    "\n",
    "\n",
    "extractor = FreatureExtractor(path)\n",
    "spectral = extractor.spectral_centroid()"
   ]
  },
  {
   "cell_type": "code",
   "execution_count": 4,
   "metadata": {},
   "outputs": [],
   "source": [
    "\n",
    "labels = [\n",
    "    'blues', 'classical', 'country', 'disco', 'hiphop', \n",
    "    'jazz', 'metal', 'pop', 'reggae', 'rock'\n",
    "]\n",
    "\n",
    "base_path = Path(\"Data/genres_original\")\n",
    "data_path = Path(\"Data/mfcc.json\")\n"
   ]
  },
  {
   "cell_type": "code",
   "execution_count": null,
   "metadata": {},
   "outputs": [],
   "source": [
    "\n",
    "def extract_data(\n",
    "    input_path: Path, \n",
    "    output_path: Path, \n",
    "    *,\n",
    "    segments: int = 10,\n",
    "    sample_rate: int = 22050,\n",
    "    n_mfcc: int = 20, \n",
    "    n_fft: int = 2048, \n",
    "    hop_length: int = 512, \n",
    "):\n",
    "    features = []\n",
    "    targets = []\n",
    "\n",
    "    samples_per_seg = int((sample_rate * 30) / segments)\n",
    "    seg_len = math.ceil(samples_per_seg / hop_length)\n",
    "\n",
    "    for path in input_path.glob(\"*/*.wav\"):\n",
    "        if path.name == \"jazz.00054.wav\":\n",
    "            # librosa can't read files > 1MB\n",
    "            continue\n",
    "\n",
    "        genre = path.parent.stem\n",
    "        y, sr = librosa.load(path, sr=sample_rate)\n",
    "\n",
    "        label = labels.index(genre)\n",
    "\n",
    "        for seg in range(segments):\n",
    "            start = samples_per_seg * seg\n",
    "            end = start + samples_per_seg\n",
    "\n",
    "            mfcc = librosa.feature.mfcc(\n",
    "                y=y[start:end], \n",
    "                sr=sr,\n",
    "                n_fft=n_fft,\n",
    "                n_mfcc=n_mfcc,\n",
    "                hop_length=hop_length,\n",
    "            ).T\n",
    "\n",
    "            # I'm not super clear as to why, but some of \n",
    "            # the mfcc's are slightly larger than the rest\n",
    "            # so I descarded them.\n",
    "            if len(mfcc) == seg_len:\n",
    "                features.append(mfcc.tolist())\n",
    "                targets.append(label)\n",
    "    \n",
    "    with open(output_path, \"w\") as f:\n",
    "        json.dump(\n",
    "            {'mfcc': features, 'labels': targets}, \n",
    "            f, \n",
    "            indent=2,\n",
    "        )\n",
    "\n",
    "\n",
    "extract_data(base_path, data_path)"
   ]
  },
  {
   "cell_type": "code",
   "execution_count": 12,
   "metadata": {},
   "outputs": [
    {
     "name": "stdout",
     "output_type": "stream",
     "text": [
      "torch.Size([7988, 130, 20]) torch.Size([1998, 130, 20])\n"
     ]
    }
   ],
   "source": [
    "\n",
    "def load_data(path):\n",
    "    with open(path, 'r') as f:\n",
    "        data = json.load(f)\n",
    "    \n",
    "    sizes = {}\n",
    "    for mfcc in data[\"mfcc\"]:\n",
    "        length = len(mfcc)\n",
    "        sizes.setdefault(length, 0)\n",
    "        sizes[length] += 1\n",
    "\n",
    "\n",
    "    return torch.tensor(data[\"mfcc\"]), torch.tensor(data[\"labels\"])\n",
    "\n",
    "inputs, targets = load_data(data_path)\n",
    "\n",
    "\n",
    "X_train, X_test, y_train, y_test = train_test_split(inputs, targets, test_size=0.2)\n",
    "print(X_train.shape, X_test.shape)"
   ]
  },
  {
   "cell_type": "code",
   "execution_count": null,
   "metadata": {},
   "outputs": [],
   "source": []
  }
 ],
 "metadata": {
  "kernelspec": {
   "display_name": "Python 3.10.0 64-bit",
   "language": "python",
   "name": "python3"
  },
  "language_info": {
   "codemirror_mode": {
    "name": "ipython",
    "version": 3
   },
   "file_extension": ".py",
   "mimetype": "text/x-python",
   "name": "python",
   "nbconvert_exporter": "python",
   "pygments_lexer": "ipython3",
   "version": "3.10.0"
  },
  "orig_nbformat": 4,
  "vscode": {
   "interpreter": {
    "hash": "d34b9460366b78c854f620c66445fee9afeecf972eedca0a7e75b88f83987c10"
   }
  }
 },
 "nbformat": 4,
 "nbformat_minor": 2
}
