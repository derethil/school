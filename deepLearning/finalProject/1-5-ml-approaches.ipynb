{
 "cells": [
  {
   "cell_type": "code",
   "execution_count": 2,
   "metadata": {},
   "outputs": [],
   "source": [
    "import numpy as np\n",
    "from sklearn import model_selection, preprocessing\n",
    "from sklearn.ensemble import RandomForestClassifier\n",
    "from sklearn.svm import SVC\n",
    "from sklearn.metrics import accuracy_score\n",
    "\n",
    "\n",
    "random_state = 42"
   ]
  },
  {
   "cell_type": "code",
   "execution_count": 3,
   "metadata": {},
   "outputs": [],
   "source": [
    "# Use the same method of loading the data as in previous sub problems\n",
    "\n",
    "input_file = \"Data/features_3_sec.csv\"\n",
    "\n",
    "with open(input_file) as f:\n",
    "    f.readline()\n",
    "    data = np.loadtxt(f, delimiter=',', dtype=np.object_)\n",
    "\n",
    "labels = [\n",
    "    'blues', 'classical', 'country', 'disco', 'hiphop', \n",
    "    'jazz', 'metal', 'pop', 'reggae', 'rock'\n",
    "]\n",
    "\n",
    "X = data[:, 1:-1].astype(np.float32)\n",
    "\n",
    "min_max_scaler = preprocessing.MinMaxScaler((-1, 1))\n",
    "X = min_max_scaler.fit_transform(X)\n",
    "\n",
    "y = [labels.index(l) for l in data[:, -1]]\n",
    "\n",
    "\n",
    "train_X, test_X, train_y, test_y = model_selection.train_test_split(X, y, test_size=0.2, random_state=random_state)"
   ]
  },
  {
   "cell_type": "code",
   "execution_count": null,
   "metadata": {},
   "outputs": [],
   "source": [
    "# Grid Search with Random Forest\n",
    "\n",
    "parameter_grid = {\n",
    "    'n_estimators': [512],\n",
    "    'max_depth': [None],\n",
    "}\n",
    "\n",
    "grid_search = model_selection.GridSearchCV(\n",
    "    RandomForestClassifier(random_state=random_state), \n",
    "    parameter_grid, \n",
    "    cv=5, \n",
    "    verbose=5\n",
    ")\n",
    "\n",
    "grid_search.fit(train_X, train_y)\n",
    "\n",
    "print(f\"Best score: {grid_search.best_score_:.4f}\")\n",
    "print(f\"Best parameters: {grid_search.best_params_}\")\n",
    "\n",
    "test_y_pred = grid_search.predict(test_X)\n",
    "print(f\"Accuracy: {accuracy_score(test_y, test_y_pred):.4f}\")"
   ]
  },
  {
   "cell_type": "markdown",
   "metadata": {},
   "source": [
    "### Random Forest\n",
    "\n",
    "Throwing together an untuned forest classifier against the 3 second features performed very well even to begin with, resulting in an 88% accuracy. Performing a grid search on that essentially told us that none of the parameters resulted in significant improvement except `n_estimators` and even with that we were only able to get up to 89% accuracy by upping it to 512."
   ]
  },
  {
   "cell_type": "code",
   "execution_count": null,
   "metadata": {},
   "outputs": [],
   "source": [
    "# Grid search with SVM\n",
    "\n",
    "parameter_grid_svm = {\n",
    "    'C': [1.0],\n",
    "    'gamma': [1.0],\n",
    "    'kernel': ['rbf'],\n",
    "}\n",
    "\n",
    "grid_search_svm = model_selection.GridSearchCV(\n",
    "    SVC(random_state=random_state),\n",
    "    parameter_grid_svm,\n",
    "    cv=5,\n",
    "    verbose=5\n",
    ")\n",
    "\n",
    "grid_search_svm.fit(train_X, train_y)\n",
    "\n",
    "print(f\"Best score: {grid_search_svm.best_score_:.4f}\")\n",
    "print(f\"Best parameters: {grid_search_svm.best_params_}\")\n",
    "\n",
    "test_y_pred = grid_search_svm.predict(test_X)\n",
    "print(f\"Accuracy: {accuracy_score(test_y, test_y_pred):.4f}\")"
   ]
  },
  {
   "cell_type": "markdown",
   "metadata": {},
   "source": [
    "### SVM\n",
    "\n",
    "While the first attempt at SVM didn't go quite as well as the first attempt as Random Forest, it still gave us a very respectable 73% accuracy. A grid search for the C and gamma hyperparameters got that up to 92%."
   ]
  }
 ],
 "metadata": {
  "kernelspec": {
   "display_name": "Python 3.10.8 64-bit",
   "language": "python",
   "name": "python3"
  },
  "language_info": {
   "codemirror_mode": {
    "name": "ipython",
    "version": 3
   },
   "file_extension": ".py",
   "mimetype": "text/x-python",
   "name": "python",
   "nbconvert_exporter": "python",
   "pygments_lexer": "ipython3",
   "version": "3.10.8"
  },
  "orig_nbformat": 4,
  "vscode": {
   "interpreter": {
    "hash": "e7370f93d1d0cde622a1f8e1c04877d8463912d04d973331ad4851f04de6915a"
   }
  }
 },
 "nbformat": 4,
 "nbformat_minor": 2
}
