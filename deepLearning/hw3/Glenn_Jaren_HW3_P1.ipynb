{
 "cells": [
  {
   "cell_type": "code",
   "execution_count": 1,
   "metadata": {},
   "outputs": [
    {
     "data": {
      "text/plain": [
       "<torch._C.Generator at 0x7f975825ded0>"
      ]
     },
     "execution_count": 1,
     "metadata": {},
     "output_type": "execute_result"
    }
   ],
   "source": [
    "import torch\n",
    "import torch.nn as nn\n",
    "import torchvision\n",
    "import torchvision.transforms as transforms\n",
    "\n",
    "# Device configuration - If you have CUDA configured, you must use it. Try training with CPU and observe what happens\n",
    "device = torch.device('cuda' if torch.cuda.is_available() else 'cpu')\n",
    "\n",
    "#Setting a seed for torch\n",
    "'''step - Your seed will be the last 6 digits of your A# excluding any leading zeros'''\n",
    "torch.manual_seed(298742) \n"
   ]
  },
  {
   "cell_type": "code",
   "execution_count": 2,
   "metadata": {},
   "outputs": [
    {
     "name": "stdout",
     "output_type": "stream",
     "text": [
      "/home/jaren/development/school/deepLearning/hw3\n"
     ]
    }
   ],
   "source": [
    "#Check your Current Working Directory\n",
    "!pwd"
   ]
  },
  {
   "cell_type": "code",
   "execution_count": 3,
   "metadata": {},
   "outputs": [],
   "source": [
    "#Set Batch Size\n",
    "'''Step - Set the correct batch size. '''\n",
    "batch_size = 32\n",
    "\n",
    "\n",
    "# Download MNIST dataset to local drive. A new folder \"data\" will be created in the current directory to store data\n",
    "train_dataset = torchvision.datasets.MNIST(root='./data', \n",
    "                                           train=True, \n",
    "                                           transform=transforms.ToTensor(),  \n",
    "                                           download=True)\n",
    "\n",
    "test_dataset = torchvision.datasets.MNIST(root='./data', \n",
    "                                          train=False, \n",
    "                                          transform=transforms.ToTensor())\n",
    "# Data loader for shuffling and batching.\n",
    "train_loader = torch.utils.data.DataLoader(dataset=train_dataset, \n",
    "                                           batch_size=batch_size, \n",
    "                                           shuffle=True)\n",
    "\n",
    "test_loader = torch.utils.data.DataLoader(dataset=test_dataset, \n",
    "                                          batch_size=batch_size, \n",
    "                                          shuffle=False)\n",
    "\n"
   ]
  },
  {
   "cell_type": "code",
   "execution_count": 4,
   "metadata": {},
   "outputs": [],
   "source": [
    "# Hyper-parameters - We are specifying these apriori\n",
    "#Network Architecture\n",
    "input_size = 784\n",
    "'''Output layer has 10 nodes because we want to predict 10 classes'''\n",
    "num_classes = 10 \n",
    "\n",
    "#Training Parameters\n",
    "''' - Define the number of epochs and observe the changes'''\n",
    "num_epochs = 25\n",
    "\n",
    "\n",
    "\n",
    "# Fully connected neural network with one hidden layer\n",
    "class NeuralNet(nn.Module):\n",
    "    \n",
    "    def __init__(self, input_size, hidden_size, num_classes):\n",
    "        super(NeuralNet, self).__init__()\n",
    "        '''\n",
    "        Step - Define the N/w architecture. Use RELU Activation\n",
    "        '''\n",
    "        \n",
    "        ''' Step - Define a Linear Unit with input size and hidden size''' \n",
    "        self.fc1 = nn.Linear(input_size, hidden_size)\n",
    "        ''' Step - Define a RELU Activation unit'''\n",
    "        self.relu = nn.ReLU()\n",
    "        ''' Step - Define a Linear Unit with input size and output size (number of classes for MNIST)''' \n",
    "        self.fc2 = nn.Linear(hidden_size, num_classes)\n",
    "    \n",
    "    def forward(self, x):\n",
    "        '''\n",
    "        Step - Forward Propagate through the layers as defined above. Fill in params in place of ...\n",
    "        '''\n",
    "        out = self.fc1(x)\n",
    "        out = self.relu(out)\n",
    "        out = self.fc2(out)\n",
    "        return out\n",
    "\n",
    "\n",
    "\n",
    "# Define the Loss Function and optimizer\n",
    "'''Step - Define a proper loss function'''\n",
    "criterion = nn.MSELoss()\n",
    "\n"
   ]
  },
  {
   "cell_type": "code",
   "execution_count": 8,
   "metadata": {},
   "outputs": [
    {
     "name": "stdout",
     "output_type": "stream",
     "text": [
      "Accuracy of the network on the 10000 test images: 98.21 %, with learning rate: 0.0007, and 512 hidden neurons\n"
     ]
    }
   ],
   "source": [
    "# Train the model\n",
    "'''step - choose different learning rates and store them in a list and observe the changes '''\n",
    "learning_rates = [.0007]\n",
    "'''Vary this number and observe the changes, define a list of possible values'''\n",
    "hidden_sizes = [512]\n",
    "\n",
    "for hidden_size in hidden_sizes:\n",
    "    for learning_rate in learning_rates:\n",
    "        total_step = len(train_loader)\n",
    "        #Define the Model Object and your optimizer\n",
    "        model = NeuralNet(input_size, hidden_size, num_classes).to(device)\n",
    "        '''Step - Invoke an appropriate optimizer that takes a ...?'''  \n",
    "        optimizer = torch.optim.Adam(model.parameters(), lr=learning_rate)\n",
    "        \n",
    "        for epoch in range(num_epochs):\n",
    "            for i, (images, labels) in enumerate(train_loader):  \n",
    "                # Move tensors to the configured device\n",
    "                images = images.reshape(-1, 28*28).to(device)\n",
    "                labels = labels.to(device)\n",
    "\n",
    "                # Forward pass\n",
    "                '''Step - Get Network outputs with forward propagation with current network weights'''\n",
    "                outputs = model(images)\n",
    "                '''Step - Get Loss by comparing outputs with True Labels after forward propagation'''\n",
    "\n",
    "                transformed_labels = torch.zeros(batch_size, num_classes).to(device)\n",
    "\n",
    "                for i, label in enumerate(labels):\n",
    "                    transformed_labels[i][label] = 1\n",
    "\n",
    "                loss = criterion(outputs, transformed_labels)\n",
    "\n",
    "\n",
    "\n",
    "                # Backward and optimize\n",
    "\n",
    "                '''Step - ... below needs to be replaced with functions'''\n",
    "                '''Step - clear the gradients after each pass - Strongly recommended'''\n",
    "                optimizer.zero_grad() \n",
    "                '''Backpropagate the Loss to calculate gradient for each weight'''\n",
    "                loss.backward()\n",
    "                '''Update the weight using the learning rate'''\n",
    "                optimizer.step() \n",
    "\n",
    "                #Print Progress every 100 steps\n",
    "                if (i+1) % 5 == 0:\n",
    "                    print ('Epoch [{}/{}], Step [{}/{}], Loss: {:.4f}' \n",
    "                           .format(epoch+1, num_epochs, i+1, total_step, loss.item()))\n",
    "                    \n",
    "    # Test the model once you finish training \n",
    "\n",
    "        with torch.no_grad(): # In test phase, we don't need to compute gradients (for memory efficiency)\n",
    "            correct = 0\n",
    "            total = 0\n",
    "            for images, labels in test_loader:\n",
    "                \n",
    "                '''Step - Move images to device after appropriate reshaping'''\n",
    "                images = images.reshape(-1, 28*28).to(device)\n",
    "\n",
    "                '''Step  - Move labels to device'''\n",
    "                labels = labels.to(device)\n",
    "\n",
    "                #get network outputs\n",
    "                outputs = model(images)\n",
    "                _, predicted = torch.max(outputs.data, 1)\n",
    "                total += labels.size(0)\n",
    "                correct += (predicted == labels).sum().item()\n",
    "\n",
    "            print(f'Accuracy of the network on the 10000 test images: {(100 * correct / total)} %, with learning rate: {learning_rate}, and {hidden_size} hidden neurons')"
   ]
  },
  {
   "cell_type": "code",
   "execution_count": null,
   "metadata": {},
   "outputs": [],
   "source": [
    "# Save the model checkpoint for future use\n",
    "torch.save(model.state_dict(), 'model.ckpt')"
   ]
  }
 ],
 "metadata": {
  "kernelspec": {
   "display_name": "Python 3.10.7 ('.venv': poetry)",
   "language": "python",
   "name": "python3"
  },
  "language_info": {
   "codemirror_mode": {
    "name": "ipython",
    "version": 3
   },
   "file_extension": ".py",
   "mimetype": "text/x-python",
   "name": "python",
   "nbconvert_exporter": "python",
   "pygments_lexer": "ipython3",
   "version": "3.10.7"
  },
  "vscode": {
   "interpreter": {
    "hash": "3e45bf1dae0b9e900e47bac7af697c07f3aaefc7819a2ab35f2cfd78988518d1"
   }
  }
 },
 "nbformat": 4,
 "nbformat_minor": 2
}
